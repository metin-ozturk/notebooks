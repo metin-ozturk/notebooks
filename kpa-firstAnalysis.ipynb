{
 "cells": [
  {
   "cell_type": "code",
   "execution_count": 369,
   "metadata": {},
   "outputs": [],
   "source": [
    "%matplotlib inline\n",
    "\n",
    "import pandas as pd\n",
    "import numpy as np\n",
    "from enum import Enum\n",
    "\n",
    "from sklearn import linear_model\n",
    "import scipy as sp"
   ]
  },
  {
   "cell_type": "code",
   "execution_count": 192,
   "metadata": {},
   "outputs": [],
   "source": [
    "# ENUMS:\n",
    "class AgeRange(Enum):\n",
    "    MINUS18 = 0\n",
    "    B2130 = 1\n",
    "    B3140 = 2\n",
    "    B4150 = 3\n",
    "    PLUS50 = 4\n",
    "\n",
    "class Education(Enum):\n",
    "    HSCHOOL = 0\n",
    "    JCOLLEGE = 1\n",
    "    UNIVERSITY = 2\n",
    "    MASTERS = 3\n",
    "    PHD = 4\n",
    "    OTHER = 5\n",
    "    \n",
    "class Gender(Enum):\n",
    "    MALE = 0\n",
    "    FEMALE = 1\n",
    "\n",
    "class SCORETYPE(Enum):\n",
    "    ICEDONUK = 0\n",
    "    DISADONUK = 1\n",
    "    DUYUSAL = 2\n",
    "    SEZGISEL = 3\n",
    "    DUSUNSEL = 4\n",
    "    DUYGUSAL = 5\n",
    "    YARGISAL = 6\n",
    "    ALGISAL = 7"
   ]
  },
  {
   "cell_type": "code",
   "execution_count": 193,
   "metadata": {},
   "outputs": [],
   "source": [
    "answerSheet = {\n",
    "    1 : [ SCORETYPE.SEZGISEL, SCORETYPE.DUYUSAL],\n",
    "    2 : [ SCORETYPE.ICEDONUK, SCORETYPE.DISADONUK],\n",
    "    3 : [ SCORETYPE.DUSUNSEL, SCORETYPE.DUYGUSAL],\n",
    "    4 : [ SCORETYPE.YARGISAL, SCORETYPE.ALGISAL],\n",
    "    5 : [ SCORETYPE.DUSUNSEL, SCORETYPE.DUYGUSAL],\n",
    "    6 : [ SCORETYPE.ICEDONUK, SCORETYPE.DISADONUK],\n",
    "    7 : [ SCORETYPE.YARGISAL, SCORETYPE.ALGISAL],\n",
    "    8 : [ SCORETYPE.ALGISAL, SCORETYPE.YARGISAL],\n",
    "    9 : [ SCORETYPE.YARGISAL, SCORETYPE.ALGISAL],\n",
    "    10 : [ SCORETYPE.SEZGISEL, SCORETYPE.DUYUSAL],\n",
    "    11 : [ SCORETYPE.ICEDONUK, SCORETYPE.DISADONUK],\n",
    "    12 : [ SCORETYPE.DUSUNSEL, SCORETYPE.DUYGUSAL],\n",
    "    13 : [ SCORETYPE.DUYUSAL, SCORETYPE.SEZGISEL],\n",
    "    14 : [ SCORETYPE.DUYGUSAL, SCORETYPE.DUSUNSEL],\n",
    "    15 : [ SCORETYPE.DISADONUK, SCORETYPE.ICEDONUK],\n",
    "    16 : [ SCORETYPE.DUYUSAL, SCORETYPE.SEZGISEL],\n",
    "    17 : [ SCORETYPE.DUYUSAL, SCORETYPE.SEZGISEL],\n",
    "    18 : [ SCORETYPE.ALGISAL, SCORETYPE.YARGISAL],\n",
    "    19 : [ SCORETYPE.DISADONUK, SCORETYPE.ICEDONUK],\n",
    "    20 : [ SCORETYPE.DUSUNSEL, SCORETYPE.DUYGUSAL],\n",
    "    21 : [ SCORETYPE.DUYUSAL, SCORETYPE.SEZGISEL],\n",
    "    22 : [ SCORETYPE.ICEDONUK, SCORETYPE.DISADONUK],\n",
    "    23 : [ SCORETYPE.ALGISAL, SCORETYPE.YARGISAL],\n",
    "    24 : [ SCORETYPE.DUYGUSAL, SCORETYPE.DUSUNSEL],\n",
    "    25 : [ SCORETYPE.DUSUNSEL, SCORETYPE.DUYGUSAL],\n",
    "    26 : [ SCORETYPE.YARGISAL, SCORETYPE.ALGISAL],\n",
    "    27 : [ SCORETYPE.DISADONUK, SCORETYPE.ICEDONUK],\n",
    "    28 : [ SCORETYPE.SEZGISEL, SCORETYPE.DUYUSAL],\n",
    "    29 : [ SCORETYPE.DUYGUSAL, SCORETYPE.DUSUNSEL],\n",
    "    30 : [ SCORETYPE.SEZGISEL, SCORETYPE.DUYUSAL],\n",
    "    31 : [ SCORETYPE.YARGISAL, SCORETYPE.ALGISAL],\n",
    "    32 : [ SCORETYPE.DISADONUK, SCORETYPE.ICEDONUK]\n",
    "}"
   ]
  },
  {
   "cell_type": "code",
   "execution_count": 335,
   "metadata": {},
   "outputs": [],
   "source": [
    "data = pd.read_csv(\"kpa-data.csv\", sep=\";\", names = [\"PType\", \"Age\", \"Gender\", \"Education\", \"Answer\"]);\n",
    "\n",
    "# Remove First 3 rows\n",
    "for dataIndex in range(3):\n",
    "    data = data.drop([dataIndex])\n",
    "data = data.reset_index(drop = True)\n",
    "\n",
    "dataRowCount = data.shape[0]\n",
    "\n",
    "#Remove commas from answer column\n",
    "for row in range(dataRowCount):\n",
    "    data[\"Answer\"][row] = data[\"Answer\"][row].replace(\",\", \"\")\n",
    "\n",
    "# Convert String Labels to Enums\n",
    "for row in range(dataRowCount):\n",
    "    if data[\"Age\"][row] == \"21-30\":\n",
    "        data[\"Age\"][row] = AgeRange.B2130.value\n",
    "    elif data[\"Age\"][row] == \"31-40\":\n",
    "        data[\"Age\"][row] = AgeRange.B3140.value\n",
    "    elif data[\"Age\"][row] == \"41-50\":\n",
    "        data[\"Age\"][row] = AgeRange.B4150.value\n",
    "    elif data[\"Age\"][row] == \"20 ve altı\":\n",
    "        data[\"Age\"][row] = AgeRange.MINUS18.value\n",
    "    elif data[\"Age\"][row] == \"50 ve yukarısı\":\n",
    "        data[\"Age\"][row] = AgeRange.PLUS50.value\n",
    "\n",
    "for row in range(dataRowCount):\n",
    "    if data[\"Education\"][row] == \"Lise\":\n",
    "        data[\"Education\"][row] = Education.HSCHOOL.value\n",
    "    elif data[\"Education\"][row] == \"Yüksek Okul (2 yıl)\":\n",
    "        data[\"Education\"][row] = Education.JCOLLEGE.value\n",
    "    elif data[\"Education\"][row] == \"Üniversite\":\n",
    "        data[\"Education\"][row] = Education.UNIVERSITY.value\n",
    "    elif data[\"Education\"][row] == \"Yüksek Lisans\":\n",
    "        data[\"Education\"][row] = Education.MASTERS.value\n",
    "    elif data[\"Education\"][row] == \"Doktora\":\n",
    "        data[\"Education\"][row] = Education.PHD.value\n",
    "    elif data[\"Education\"][row] == \"Lise öncesi\":\n",
    "        data[\"Education\"][row] = Education.OTHER.value\n",
    "        \n",
    "for row in range(dataRowCount):\n",
    "    if data[\"Gender\"][row] == \"Erkek\":\n",
    "        data[\"Gender\"][row] = Gender.MALE.value\n",
    "    elif data[\"Gender\"][row] == \"Kadın\":\n",
    "        data[\"Gender\"][row] = Gender.FEMALE.value"
   ]
  },
  {
   "cell_type": "code",
   "execution_count": 336,
   "metadata": {},
   "outputs": [],
   "source": [
    "dataRowCount = data.shape[0]\n",
    "newAnswerTotal = []\n",
    "for row in range(dataRowCount):\n",
    "    newAnswer = []\n",
    "    for choice in range(len(data[\"Answer\"][0])):\n",
    "        if data[\"Answer\"][row][choice] == \"a\":\n",
    "            newAnswer.append(answerSheet[choice + 1][0])\n",
    "        else:\n",
    "            newAnswer.append(answerSheet[choice + 1][1])\n",
    "    newAnswerTotal.append(newAnswer)\n",
    "\n",
    "for row in range(dataRowCount):\n",
    "    data[\"Answer\"][row] = newAnswerTotal[row]"
   ]
  },
  {
   "cell_type": "code",
   "execution_count": 337,
   "metadata": {},
   "outputs": [],
   "source": [
    "#Function return Personality type by subject's row number\n",
    "def getPersonalityType(rowNumber):\n",
    "    iceDonukCounter = 0\n",
    "    duyusalCounter = 0\n",
    "    dusunselCounter = 0\n",
    "    yargisalCounter = 0\n",
    "    disaDonukCounter = 0\n",
    "    sezgiselCounter = 0\n",
    "    duygusalCounter = 0\n",
    "    algisalCounter = 0\n",
    "\n",
    "    for choice in range(len(data[\"Answer\"][rowNumber])):\n",
    "        if data[\"Answer\"][rowNumber][choice] == SCORETYPE.ICEDONUK:\n",
    "            iceDonukCounter += 1\n",
    "        elif data[\"Answer\"][rowNumber][choice] == SCORETYPE.DISADONUK:\n",
    "            disaDonukCounter += 1\n",
    "        elif data[\"Answer\"][rowNumber][choice] == SCORETYPE.DUYUSAL:\n",
    "            duyusalCounter += 1\n",
    "        elif data[\"Answer\"][rowNumber][choice] == SCORETYPE.SEZGISEL:\n",
    "            sezgiselCounter += 1\n",
    "        elif data[\"Answer\"][rowNumber][choice] == SCORETYPE.DUSUNSEL:\n",
    "            dusunselCounter += 1\n",
    "        elif data[\"Answer\"][rowNumber][choice] == SCORETYPE.DUYGUSAL:\n",
    "            duygusalCounter += 1\n",
    "        elif data[\"Answer\"][rowNumber][choice] == SCORETYPE.YARGISAL:\n",
    "            yargisalCounter += 1\n",
    "        elif data[\"Answer\"][rowNumber][choice] == SCORETYPE.ALGISAL:\n",
    "            algisalCounter += 1\n",
    "\n",
    "    personalityType = \"\"\n",
    "\n",
    "    if iceDonukCounter > disaDonukCounter:\n",
    "        personalityType += \"Ç\"\n",
    "    else:\n",
    "        personalityType += \"Ş\"\n",
    "\n",
    "    if sezgiselCounter > duyusalCounter:\n",
    "        personalityType += \"S\"\n",
    "    else:\n",
    "        personalityType += \"D\"\n",
    "\n",
    "    if  duygusalCounter > dusunselCounter:\n",
    "        personalityType += \"U\"\n",
    "    else:\n",
    "        personalityType += \"Ü\"\n",
    "\n",
    "    if algisalCounter > yargisalCounter:\n",
    "        personalityType += \"A\"\n",
    "    else:\n",
    "        personalityType += \"Y\"\n",
    "    \n",
    "    return personalityType"
   ]
  },
  {
   "cell_type": "code",
   "execution_count": 378,
   "metadata": {},
   "outputs": [],
   "source": [
    "def getScoreLetter(retrievedScoreType):\n",
    "    scoreLetter = \"\"    \n",
    "    if retrievedScoreType == SCORETYPE.ICEDONUK:\n",
    "        scoreLetter = \"Ç\"\n",
    "    elif retrievedScoreType == SCORETYPE.DISADONUK:\n",
    "        scoreLetter = \"Ş\"\n",
    "    elif retrievedScoreType == SCORETYPE.DUYUSAL:\n",
    "        scoreLetter = \"D\"\n",
    "    elif retrievedScoreType == SCORETYPE.SEZGISEL:\n",
    "        scoreLetter = \"S\"\n",
    "    elif retrievedScoreType == SCORETYPE.DUSUNSEL:\n",
    "        scoreLetter = \"Ü\"\n",
    "    elif retrievedScoreType == SCORETYPE.DUYGUSAL:\n",
    "        scoreLetter = \"U\"\n",
    "    elif retrievedScoreType == SCORETYPE.YARGISAL:\n",
    "        scoreLetter = \"Y\"\n",
    "    elif retrievedScoreType == SCORETYPE.ALGISAL:\n",
    "        scoreLetter = \"A\"\n",
    "    return scoreLetter"
   ]
  },
  {
   "cell_type": "code",
   "execution_count": 376,
   "metadata": {},
   "outputs": [],
   "source": [
    "def findCorrelationBetweenQuestionAndScore(questionNumber, firstScoreType, secondScoreType):\n",
    "    \n",
    "    dataRowCount = data.shape[0]\n",
    "    predictors = []\n",
    "    \n",
    "    for rowNumber in range(dataRowCount):\n",
    "        if data[\"Answer\"][rowNumber][questionNumber] == firstScoreType:        \n",
    "            predictors.append(0)\n",
    "        elif data[\"Answer\"][rowNumber][questionNumber] == secondScoreType:\n",
    "            predictors.append(1)\n",
    "    predicted = []\n",
    "    \n",
    "    firstScoreLetter = getScoreLetter(firstScoreType)\n",
    "    secondScoreLetter = getScoreLetter(secondScoreType)\n",
    "    \n",
    "    for rowNumber in range(dataRowCount):\n",
    "        if firstScoreLetter in data[\"PType\"][rowNumber]:        \n",
    "            predicted.append(0)\n",
    "        elif secondScoreLetter in data[\"PType\"][rowNumber]:\n",
    "            predicted.append(1)\n",
    "\n",
    "    return sp.stats.pearsonr(predictors, predicted)"
   ]
  },
  {
   "cell_type": "code",
   "execution_count": 373,
   "metadata": {},
   "outputs": [
    {
     "data": {
      "text/plain": [
       "0.4054489460834503"
      ]
     },
     "execution_count": 373,
     "metadata": {},
     "output_type": "execute_result"
    }
   ],
   "source": [
    "sp.stats.pearsonr(predictorsAsDuyusalVSSezgisel, predictedAsDuyusalVSSezgisel)[0]"
   ]
  },
  {
   "cell_type": "code",
   "execution_count": 381,
   "metadata": {},
   "outputs": [
    {
     "data": {
      "text/plain": [
       "(0.2617053239834149, 0.000768225218736796)"
      ]
     },
     "execution_count": 381,
     "metadata": {},
     "output_type": "execute_result"
    }
   ],
   "source": [
    "findCorrelationBetweenQuestionAndScore(2, SCORETYPE.ICEDONUK, SCORETYPE.DISADONUK)"
   ]
  },
  {
   "cell_type": "code",
   "execution_count": 399,
   "metadata": {},
   "outputs": [],
   "source": [
    "dataRowCount = data.shape[0]\n",
    "correlations = []\n",
    "for questionNumber in range(32):\n",
    "    firstScoreType = answerSheet[questionNumber + 1][0]\n",
    "    secondScoreType = answerSheet[questionNumber + 1][1]\n",
    "    \n",
    "    correlations.append(str(questionNumber + 1) +\") \" + str(findCorrelationBetweenQuestionAndScore(questionNumber, firstScoreType, secondScoreType)[0]))"
   ]
  },
  {
   "cell_type": "code",
   "execution_count": 401,
   "metadata": {},
   "outputs": [
    {
     "data": {
      "text/plain": [
       "['1) 0.40544894608345017',\n",
       " '2) 0.2617053239834149',\n",
       " '3) 0.308876621521911',\n",
       " '4) 0.42896060622845456',\n",
       " '5) 0.32010826455106445',\n",
       " '6) 0.3738176639196486',\n",
       " '7) 0.36796162093908713',\n",
       " '8) 0.31483347246125104',\n",
       " '9) 0.3740422969200441',\n",
       " '10) 0.4719704516760005',\n",
       " '11) 0.3415129323632727',\n",
       " '12) 0.5157266969762433',\n",
       " '13) 0.3705638930273139',\n",
       " '14) 0.2132007163556104',\n",
       " '15) 0.48212033298739454',\n",
       " '16) 0.2651223700382525',\n",
       " '17) 0.328896455657019',\n",
       " '18) 0.02556549962824569',\n",
       " '19) 0.39627529289718705',\n",
       " '20) 0.3411211461689767',\n",
       " '21) 0.20156998196756712',\n",
       " '22) 0.34214991373298964',\n",
       " '23) 0.2626841780312351',\n",
       " '24) 0.360368067494457',\n",
       " '25) -0.0025626918712182405',\n",
       " '26) 0.43775445089229886',\n",
       " '27) 0.3183927356183277',\n",
       " '28) 0.35020971702595294',\n",
       " '29) 0.24111939971415391',\n",
       " '30) 0.40510938608063024',\n",
       " '31) 0.3670426996026796',\n",
       " '32) 0.3940721292238731']"
      ]
     },
     "execution_count": 401,
     "metadata": {},
     "output_type": "execute_result"
    }
   ],
   "source": [
    "correlations"
   ]
  }
 ],
 "metadata": {
  "kernelspec": {
   "display_name": "Python 3",
   "language": "python",
   "name": "python3"
  },
  "language_info": {
   "codemirror_mode": {
    "name": "ipython",
    "version": 3
   },
   "file_extension": ".py",
   "mimetype": "text/x-python",
   "name": "python",
   "nbconvert_exporter": "python",
   "pygments_lexer": "ipython3",
   "version": "3.7.4"
  }
 },
 "nbformat": 4,
 "nbformat_minor": 2
}
